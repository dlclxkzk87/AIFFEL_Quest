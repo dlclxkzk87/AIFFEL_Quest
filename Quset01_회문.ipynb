{
  "nbformat": 4,
  "nbformat_minor": 0,
  "metadata": {
    "colab": {
      "provenance": [],
      "include_colab_link": true
    },
    "kernelspec": {
      "name": "python3",
      "display_name": "Python 3"
    },
    "language_info": {
      "name": "python"
    }
  },
  "cells": [
    {
      "cell_type": "markdown",
      "metadata": {
        "id": "view-in-github",
        "colab_type": "text"
      },
      "source": [
        "<a href=\"https://colab.research.google.com/github/dlclxkzk87/AIFFEL_Quest/blob/master/Quset01_%ED%9A%8C%EB%AC%B8.ipynb\" target=\"_parent\"><img src=\"https://colab.research.google.com/assets/colab-badge.svg\" alt=\"Open In Colab\"/></a>"
      ]
    },
    {
      "cell_type": "code",
      "execution_count": null,
      "metadata": {
        "id": "KgECGxyDDRw7"
      },
      "outputs": [],
      "source": [
        "# [퀘스트 1] 회문인지 아닌지 확인하는 프로그램\n",
        "# 회문이란?\n",
        "# 앞에서부터 읽어도 뒤에서부터 읽어도 같은 단어, 구, 문장, 숫자, 혹은 문단\n",
        "\n",
        "#  조건\n",
        "# 단어(string)를 입력받을 수 있게 한다.\n",
        "# 자료형에 대한 이해가 부족하다면? 검색 혹은 노드 확인!!\n",
        "# 입력된 단어를 뒤집어서 출력할 수 있게 한다.\n",
        "# 입력된 단어가 회문이 맞는지 확인하여 출력할 수 있게 한다.\n",
        "# 자료형, 제어문, 함수를 활용한다.\n"
      ]
    },
    {
      "cell_type": "code",
      "source": [
        "# 리스트 슬라이스로 작성\n",
        "word = input('단어를 입력해주세요.')\n",
        "print(word == word[::-1])"
      ],
      "metadata": {
        "colab": {
          "base_uri": "https://localhost:8080/"
        },
        "id": "4usqYHYcDv2Y",
        "outputId": "69512127-4952-45dd-d5f9-d9bd1ffde327"
      },
      "execution_count": null,
      "outputs": [
        {
          "output_type": "stream",
          "name": "stdout",
          "text": [
            "단어나 문장을 입력해주세요.level anna\n",
            "False\n"
          ]
        }
      ]
    },
    {
      "cell_type": "code",
      "source": [
        "# join 메서드와 reversed 사용\n",
        "word = input('단어를 입력해주세요.')\n",
        "word == ''.join(reversed(word))"
      ],
      "metadata": {
        "colab": {
          "base_uri": "https://localhost:8080/"
        },
        "id": "MDHjaWUPDv5G",
        "outputId": "cea73d59-69aa-47ee-d6d3-052a3758892f"
      },
      "execution_count": null,
      "outputs": [
        {
          "name": "stdout",
          "output_type": "stream",
          "text": [
            "단어를 입력해주세요.sos\n"
          ]
        },
        {
          "output_type": "execute_result",
          "data": {
            "text/plain": [
              "True"
            ]
          },
          "metadata": {},
          "execution_count": 5
        }
      ]
    },
    {
      "cell_type": "code",
      "source": [
        "word = input('단어를 입력하세요')\n",
        "\n",
        "is_pd = True                               # 회문 판별값을 저장할 변수, 초깃값은 True\n",
        "for i in range(len(word) // 2):            # 0부터 문자열 길이의 절반만큰 반복\n",
        "    if word[i] != word[-1 - i]:            # 왼쪽 문자와 오른쪽 문자를 비교하여 문자가 다르면\n",
        "        is_pd = False                      # 회문이 아님\n",
        "        break\n",
        "\n",
        "print(is_pd)                               # 회문 판별값 출력"
      ],
      "metadata": {
        "id": "Yqy5j7i7DwFY",
        "colab": {
          "base_uri": "https://localhost:8080/"
        },
        "outputId": "198e27b7-80df-4c84-b419-58f19654d7a8"
      },
      "execution_count": null,
      "outputs": [
        {
          "output_type": "stream",
          "name": "stdout",
          "text": [
            "단어를 입력하세요level\n",
            "True\n"
          ]
        }
      ]
    },
    {
      "cell_type": "code",
      "source": [
        "n=int(input('숫자를 입력하세요'))               # 테스트 횟수\n",
        "for i in range(n):\n",
        "    str=input()              # 입력을 받고\n",
        "    str=str.upper()\n",
        "    if str==str[::-1]:       # 슬라이스로 회문 판별\n",
        "        print(\"#%d YES\" %i)\n",
        "    else:\n",
        "        print(\"#%d NO\" %i)"
      ],
      "metadata": {
        "id": "_nfYMDs2DwIF",
        "colab": {
          "base_uri": "https://localhost:8080/"
        },
        "outputId": "661fb139-3ca3-4726-9792-6eb268402ca8"
      },
      "execution_count": null,
      "outputs": [
        {
          "output_type": "stream",
          "name": "stdout",
          "text": [
            "2\n",
            "12321\n",
            "#0 YES\n",
            "45654\n",
            "#1 YES\n"
          ]
        }
      ]
    },
    {
      "cell_type": "code",
      "source": [
        "from google.colab import drive\n",
        "drive.mount('/content/drive')"
      ],
      "metadata": {
        "id": "izR6R_HiYXcL"
      },
      "execution_count": null,
      "outputs": []
    },
    {
      "cell_type": "code",
      "source": [],
      "metadata": {
        "id": "B8lraz_gDwKy"
      },
      "execution_count": null,
      "outputs": []
    },
    {
      "cell_type": "code",
      "source": [],
      "metadata": {
        "id": "pK_NGqYVDwNh"
      },
      "execution_count": null,
      "outputs": []
    },
    {
      "cell_type": "code",
      "source": [],
      "metadata": {
        "id": "c6Dimw2mDwQC"
      },
      "execution_count": null,
      "outputs": []
    },
    {
      "cell_type": "code",
      "source": [],
      "metadata": {
        "id": "wGl3AL7bDwSo"
      },
      "execution_count": null,
      "outputs": []
    },
    {
      "cell_type": "code",
      "source": [],
      "metadata": {
        "id": "ui86VNA4DwVP"
      },
      "execution_count": null,
      "outputs": []
    },
    {
      "cell_type": "code",
      "source": [],
      "metadata": {
        "id": "zYLGOB1UDxBN"
      },
      "execution_count": null,
      "outputs": []
    },
    {
      "cell_type": "code",
      "source": [],
      "metadata": {
        "id": "vb67BotRDxD_"
      },
      "execution_count": null,
      "outputs": []
    },
    {
      "cell_type": "code",
      "source": [],
      "metadata": {
        "id": "GG_2GEpRDxGz"
      },
      "execution_count": null,
      "outputs": []
    }
  ]
}