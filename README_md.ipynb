{
  "nbformat": 4,
  "nbformat_minor": 0,
  "metadata": {
    "colab": {
      "provenance": [],
      "mount_file_id": "1vJ5pxTIal318Hkb_cbTRI3v9nEV9ESad",
      "authorship_tag": "ABX9TyOorUp+hfvjmDiNu/wpT6Cb",
      "include_colab_link": true
    },
    "kernelspec": {
      "name": "python3",
      "display_name": "Python 3"
    },
    "language_info": {
      "name": "python"
    }
  },
  "cells": [
    {
      "cell_type": "markdown",
      "metadata": {
        "id": "view-in-github",
        "colab_type": "text"
      },
      "source": [
        "<a href=\"https://colab.research.google.com/github/dlclxkzk87/AIFFEL_Quest/blob/master/README_md.ipynb\" target=\"_parent\"><img src=\"https://colab.research.google.com/assets/colab-badge.svg\" alt=\"Open In Colab\"/></a>"
      ]
    },
    {
      "cell_type": "code",
      "execution_count": null,
      "metadata": {
        "id": "z0ZXfFNFjOni"
      },
      "outputs": [],
      "source": [
        "###리뷰어(push한 사람):\n",
        "\n",
        "#제목\n",
        "\n",
        "\n",
        "##소제목\n",
        "\n",
        "\n",
        "기사내용 요약\n",
        "\n",
        "\n",
        "원본기사 링크\n"
      ]
    },
    {
      "cell_type": "code",
      "source": [
        "cd /content/drive/MyDrive/on6Core/Quest_python/"
      ],
      "metadata": {
        "colab": {
          "base_uri": "https://localhost:8080/"
        },
        "id": "UwfWXtCNjj__",
        "outputId": "3cd047d0-f848-4df9-efae-01f7b1d36d16"
      },
      "execution_count": 9,
      "outputs": [
        {
          "output_type": "stream",
          "name": "stdout",
          "text": [
            "/content/drive/MyDrive/on6Core/Quest_python\n"
          ]
        }
      ]
    }
  ]
}